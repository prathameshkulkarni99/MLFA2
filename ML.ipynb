{
 "cells": [
  {
   "cell_type": "code",
   "execution_count": 2,
   "metadata": {},
   "outputs": [],
   "source": [
    "import pandas as pd\n",
    "import numpy as np\n",
    "import matplotlib.pyplot as plt\n",
    "import seaborn as sns\n",
    "\n",
    "# Preprocessing and model evaluation tools\n",
    "from sklearn.preprocessing import LabelEncoder, StandardScaler\n",
    "from sklearn.model_selection import train_test_split\n",
    "from sklearn.metrics import (accuracy_score, precision_score, recall_score, f1_score,\n",
    "                             confusion_matrix, classification_report, silhouette_score)\n",
    "from sklearn.decomposition import PCA\n",
    "\n",
    "# Classification models\n",
    "from sklearn.linear_model import LogisticRegression\n",
    "from sklearn.tree import DecisionTreeClassifier\n",
    "from sklearn.ensemble import RandomForestClassifier\n",
    "from sklearn.svm import SVC\n",
    "from sklearn.neighbors import KNeighborsClassifier\n",
    "from xgboost import XGBClassifier\n",
    "\n",
    "# Clustering models\n",
    "from sklearn.cluster import KMeans, AgglomerativeClustering\n"
   ]
  },
  {
   "cell_type": "code",
   "execution_count": 3,
   "metadata": {},
   "outputs": [
    {
     "name": "stdout",
     "output_type": "stream",
     "text": [
      "Dataset preview:\n",
      "  company_name status_label  year       X1       X2      X3      X4       X5  \\\n",
      "0          C_1        alive  1999  511.267  833.107  18.373  89.031  336.018   \n",
      "1          C_1        alive  2000  485.856  713.811  18.577  64.367  320.590   \n",
      "2          C_1        alive  2001  436.656  526.477  22.496  27.207  286.588   \n",
      "3          C_1        alive  2002  396.412  496.747  27.172  30.745  259.954   \n",
      "4          C_1        alive  2003  432.204  523.302  26.680  47.491  247.245   \n",
      "\n",
      "       X6       X7  ...        X9      X10      X11     X12      X13      X14  \\\n",
      "0  35.163  128.348  ...  1024.333  740.998  180.447  70.658  191.226  163.816   \n",
      "1  18.531  115.187  ...   874.255  701.854  179.987  45.790  160.444  125.392   \n",
      "2 -58.939   77.528  ...   638.721  710.199  217.699   4.711  112.244  150.464   \n",
      "3 -12.410   66.322  ...   606.337  686.621  164.658   3.573  109.590  203.575   \n",
      "4   3.504  104.661  ...   651.958  709.292  248.666  20.811  128.656  131.261   \n",
      "\n",
      "       X15       X16      X17      X18  \n",
      "0  201.026  1024.333  401.483  935.302  \n",
      "1  204.065   874.255  361.642  809.888  \n",
      "2  139.603   638.721  399.964  611.514  \n",
      "3  124.106   606.337  391.633  575.592  \n",
      "4  131.884   651.958  407.608  604.467  \n",
      "\n",
      "[5 rows x 21 columns]\n"
     ]
    }
   ],
   "source": [
    "# Load the dataset\n",
    "df = pd.read_csv(\"/Users/prathameshkulkarni/Downloads/american_bankruptcy.csv\")\n",
    "\n",
    "# Display first few rows (optional)\n",
    "print(\"Dataset preview:\")\n",
    "print(df.head())"
   ]
  },
  {
   "cell_type": "code",
   "execution_count": 4,
   "metadata": {},
   "outputs": [
    {
     "name": "stdout",
     "output_type": "stream",
     "text": [
      "\n",
      "Label mapping: {'alive': 0, 'failed': 1}\n"
     ]
    }
   ],
   "source": [
    "# Encode the target variable. Assuming 'status_label' contains strings like \"alive\" and \"bankrupt\".\n",
    "label_encoder = LabelEncoder()\n",
    "df['status_encoded'] = label_encoder.fit_transform(df['status_label'])\n",
    "# Note: Check label mapping with: dict(zip(label_encoder.classes_, label_encoder.transform(label_encoder.classes_)))\n",
    "print(\"\\nLabel mapping:\", dict(zip(label_encoder.classes_, label_encoder.transform(label_encoder.classes_))))"
   ]
  },
  {
   "cell_type": "code",
   "execution_count": 5,
   "metadata": {},
   "outputs": [
    {
     "name": "stdout",
     "output_type": "stream",
     "text": [
      "\n",
      "Data split completed: Training samples = 62945, Test samples = 15737\n"
     ]
    }
   ],
   "source": [
    "\n",
    "# Use only the financial ratio features (assuming columns X1 to X18)\n",
    "feature_columns = [f\"X{i}\" for i in range(1, 19)]\n",
    "X = df[feature_columns].copy()\n",
    "y = df['status_encoded'].copy()\n",
    "\n",
    "# Scale the features\n",
    "scaler = StandardScaler()\n",
    "X_scaled = scaler.fit_transform(X)\n",
    "\n",
    "# Split into training and test sets\n",
    "X_train, X_test, y_train, y_test = train_test_split(X_scaled, y,\n",
    "                                                    test_size=0.2, random_state=42)\n",
    "print(\"\\nData split completed: Training samples = {}, Test samples = {}\".format(X_train.shape[0], X_test.shape[0]))"
   ]
  },
  {
   "cell_type": "code",
   "execution_count": 6,
   "metadata": {},
   "outputs": [],
   "source": [
    "\n",
    "# ====================\n",
    "# 2. Classification Models\n",
    "# ====================\n",
    "# Define classifiers\n",
    "classifiers = {\n",
    "    \"Logistic Regression\": LogisticRegression(max_iter=1000, random_state=42),\n",
    "    \"Decision Tree\": DecisionTreeClassifier(random_state=42),\n",
    "    \"Random Forest\": RandomForestClassifier(n_estimators=100, random_state=42),\n",
    "    \"SVM\": SVC(kernel='rbf', probability=True, random_state=42),\n",
    "    \"k-NN\": KNeighborsClassifier(n_neighbors=5),\n",
    "    \"XGBoost\": XGBClassifier(use_label_encoder=False, eval_metric='logloss', random_state=42)\n",
    "}\n"
   ]
  },
  {
   "cell_type": "code",
   "execution_count": 7,
   "metadata": {},
   "outputs": [],
   "source": [
    "# Function to train, predict and evaluate a model\n",
    "def evaluate_model(model, X_tr, X_te, y_tr, y_te):\n",
    "    model.fit(X_tr, y_tr)\n",
    "    preds = model.predict(X_te)\n",
    "    acc = accuracy_score(y_te, preds)\n",
    "    prec = precision_score(y_te, preds, average='binary')\n",
    "    rec = recall_score(y_te, preds, average='binary')\n",
    "    f1 = f1_score(y_te, preds, average='binary')\n",
    "    conf = confusion_matrix(y_te, preds)\n",
    "    return acc, prec, rec, f1, conf"
   ]
  },
  {
   "cell_type": "code",
   "execution_count": 8,
   "metadata": {},
   "outputs": [
    {
     "name": "stdout",
     "output_type": "stream",
     "text": [
      "\n",
      "Logistic Regression Results:\n",
      "Accuracy: 0.9322\n",
      "Precision: 0.5385\n",
      "Recall: 0.0066\n",
      "F1-Score: 0.0130\n",
      "Confusion Matrix:\n",
      " [[14663     6]\n",
      " [ 1061     7]]\n",
      "\n",
      "Decision Tree Results:\n",
      "Accuracy: 0.8923\n",
      "Precision: 0.2243\n",
      "Recall: 0.2388\n",
      "F1-Score: 0.2313\n",
      "Confusion Matrix:\n",
      " [[13787   882]\n",
      " [  813   255]]\n",
      "\n",
      "Random Forest Results:\n",
      "Accuracy: 0.9363\n",
      "Precision: 0.9333\n",
      "Recall: 0.0655\n",
      "F1-Score: 0.1225\n",
      "Confusion Matrix:\n",
      " [[14664     5]\n",
      " [  998    70]]\n",
      "\n",
      "SVM Results:\n",
      "Accuracy: 0.9325\n",
      "Precision: 1.0000\n",
      "Recall: 0.0056\n",
      "F1-Score: 0.0112\n",
      "Confusion Matrix:\n",
      " [[14669     0]\n",
      " [ 1062     6]]\n",
      "\n",
      "k-NN Results:\n",
      "Accuracy: 0.9402\n",
      "Precision: 0.6721\n",
      "Recall: 0.2322\n",
      "F1-Score: 0.3452\n",
      "Confusion Matrix:\n",
      " [[14548   121]\n",
      " [  820   248]]\n",
      "\n",
      "XGBoost Results:\n",
      "Accuracy: 0.9361\n",
      "Precision: 0.6962\n",
      "Recall: 0.1030\n",
      "F1-Score: 0.1794\n",
      "Confusion Matrix:\n",
      " [[14621    48]\n",
      " [  958   110]]\n"
     ]
    }
   ],
   "source": [
    "\n",
    "# Evaluate each model and store results\n",
    "results = {}\n",
    "for name, model in classifiers.items():\n",
    "    acc, prec, rec, f1, conf = evaluate_model(model, X_train, X_test, y_train, y_test)\n",
    "    results[name] = {\"Accuracy\": acc, \"Precision\": prec, \"Recall\": rec, \"F1-Score\": f1, \"Confusion Matrix\": conf}\n",
    "    print(f\"\\n{name} Results:\")\n",
    "    print(\"Accuracy: {:.4f}\".format(acc))\n",
    "    print(\"Precision: {:.4f}\".format(prec))\n",
    "    print(\"Recall: {:.4f}\".format(rec))\n",
    "    print(\"F1-Score: {:.4f}\".format(f1))\n",
    "    print(\"Confusion Matrix:\\n\", conf)"
   ]
  },
  {
   "cell_type": "code",
   "execution_count": 9,
   "metadata": {},
   "outputs": [
    {
     "name": "stderr",
     "output_type": "stream",
     "text": [
      "/Users/prathameshkulkarni/Desktop/anaconda3/lib/python3.12/site-packages/sklearn/cluster/_kmeans.py:1412: FutureWarning: The default value of `n_init` will change from 10 to 'auto' in 1.4. Set the value of `n_init` explicitly to suppress the warning\n",
      "  super()._check_params_vs_input(X, default_n_init=10)\n"
     ]
    },
    {
     "name": "stdout",
     "output_type": "stream",
     "text": [
      "\n",
      "K-Means Silhouette Score: 0.9126\n"
     ]
    }
   ],
   "source": [
    "\n",
    "# ====================\n",
    "# 3. Clustering Analysis\n",
    "# ====================\n",
    "# We use the scaled features (financial ratios) for clustering\n",
    "# -- K-Means Clustering\n",
    "kmeans = KMeans(n_clusters=3, random_state=42)\n",
    "kmeans_labels = kmeans.fit_predict(X_scaled)\n",
    "kmeans_silhouette = silhouette_score(X_scaled, kmeans_labels)\n",
    "print(\"\\nK-Means Silhouette Score: {:.4f}\".format(kmeans_silhouette))"
   ]
  },
  {
   "cell_type": "code",
   "execution_count": 10,
   "metadata": {},
   "outputs": [],
   "source": [
    "# Add clustering results to dataframe for visualization\n",
    "df['KMeans_cluster'] = kmeans_labels\n"
   ]
  },
  {
   "cell_type": "code",
   "execution_count": 11,
   "metadata": {},
   "outputs": [
    {
     "data": {
      "text/plain": [
       "<Figure size 1200x500 with 0 Axes>"
      ]
     },
     "execution_count": 11,
     "metadata": {},
     "output_type": "execute_result"
    },
    {
     "data": {
      "text/plain": [
       "<Figure size 1200x500 with 0 Axes>"
      ]
     },
     "metadata": {},
     "output_type": "display_data"
    }
   ],
   "source": [
    "# Visualize clusters using PCA (2D projection)\n",
    "pca = PCA(n_components=2, random_state=42)\n",
    "X_pca = pca.fit_transform(X_scaled)\n",
    "\n",
    "plt.figure(figsize=(12, 5))\n"
   ]
  },
  {
   "cell_type": "code",
   "execution_count": 12,
   "metadata": {},
   "outputs": [
    {
     "data": {
      "text/plain": [
       "Text(0, 0.5, 'PCA Component 2')"
      ]
     },
     "execution_count": 12,
     "metadata": {},
     "output_type": "execute_result"
    },
    {
     "data": {
      "image/png": "[encoded data removed]",
      "text/plain": [
       "<Figure size 640x480 with 1 Axes>"
      ]
     },
     "metadata": {},
     "output_type": "display_data"
    }
   ],
   "source": [
    "\n",
    "\n",
    "# K-Means cluster plot\n",
    "plt.subplot(1, 2, 1)\n",
    "sns.scatterplot(x=X_pca[:,0], y=X_pca[:,1], hue=kmeans_labels, palette='viridis', legend='full', s=30)\n",
    "plt.title(\"K-Means Clusters (PCA projection)\")\n",
    "plt.xlabel(\"PCA Component 1\")\n",
    "plt.ylabel(\"PCA Component 2\")"
   ]
  },
  {
   "cell_type": "code",
   "execution_count": 13,
   "metadata": {},
   "outputs": [
    {
     "name": "stdout",
     "output_type": "stream",
     "text": [
      "\n",
      "Hybrid model data split: Training samples = 62945, Test samples = 15737\n"
     ]
    }
   ],
   "source": [
    "cluster_feature = kmeans_labels.reshape(-1, 1)\n",
    "\n",
    "X_hybrid = np.hstack([X_scaled, cluster_feature])\n",
    "\n",
    "\n",
    "Xh_train, Xh_test, yh_train, yh_test = train_test_split(X_hybrid, y,\n",
    "                                                        test_size=0.2, random_state=42)\n",
    "\n",
    "print(\"\\nHybrid model data split: Training samples = {}, Test samples = {}\".format(Xh_train.shape[0], Xh_test.shape[0]))"
   ]
  },
  {
   "cell_type": "code",
   "execution_count": 14,
   "metadata": {},
   "outputs": [
    {
     "name": "stdout",
     "output_type": "stream",
     "text": [
      "\n",
      "Hybrid Logistic Regression Results (with cluster feature):\n",
      "Accuracy: 0.9322\n",
      "Precision: 0.5385\n",
      "Recall: 0.0066\n",
      "F1-Score: 0.0130\n",
      "Confusion Matrix:\n",
      " [[14663     6]\n",
      " [ 1061     7]]\n",
      "\n",
      "Hybrid Decision Tree Results (with cluster feature):\n",
      "Accuracy: 0.8922\n",
      "Precision: 0.2133\n",
      "Recall: 0.2191\n",
      "F1-Score: 0.2162\n",
      "Confusion Matrix:\n",
      " [[13806   863]\n",
      " [  834   234]]\n",
      "\n",
      "Hybrid Random Forest Results (with cluster feature):\n",
      "Accuracy: 0.9361\n",
      "Precision: 0.9437\n",
      "Recall: 0.0627\n",
      "F1-Score: 0.1176\n",
      "Confusion Matrix:\n",
      " [[14665     4]\n",
      " [ 1001    67]]\n",
      "\n",
      "Hybrid SVM Results (with cluster feature):\n",
      "Accuracy: 0.9325\n",
      "Precision: 1.0000\n",
      "Recall: 0.0056\n",
      "F1-Score: 0.0112\n",
      "Confusion Matrix:\n",
      " [[14669     0]\n",
      " [ 1062     6]]\n",
      "\n",
      "Hybrid k-NN Results (with cluster feature):\n",
      "Accuracy: 0.9401\n",
      "Precision: 0.6721\n",
      "Recall: 0.2303\n",
      "F1-Score: 0.3431\n",
      "Confusion Matrix:\n",
      " [[14549   120]\n",
      " [  822   246]]\n",
      "\n",
      "Hybrid XGBoost Results (with cluster feature):\n",
      "Accuracy: 0.9361\n",
      "Precision: 0.6962\n",
      "Recall: 0.1030\n",
      "F1-Score: 0.1794\n",
      "Confusion Matrix:\n",
      " [[14621    48]\n",
      " [  958   110]]\n"
     ]
    }
   ],
   "source": [
    "# Evaluate classifiers on the hybrid features\n",
    "hybrid_results = {}\n",
    "for name, model in classifiers.items():\n",
    "    acc, prec, rec, f1, conf = evaluate_model(model, Xh_train, Xh_test, yh_train, yh_test)\n",
    "    hybrid_results[name] = {\"Accuracy\": acc, \"Precision\": prec, \"Recall\": rec, \"F1-Score\": f1, \"Confusion Matrix\": conf}\n",
    "    print(f\"\\nHybrid {name} Results (with cluster feature):\")\n",
    "    print(\"Accuracy: {:.4f}\".format(acc))\n",
    "    print(\"Precision: {:.4f}\".format(prec))\n",
    "    print(\"Recall: {:.4f}\".format(rec))\n",
    "    print(\"F1-Score: {:.4f}\".format(f1))\n",
    "    print(\"Confusion Matrix:\\n\", conf)"
   ]
  },
  {
   "cell_type": "code",
   "execution_count": null,
   "metadata": {},
   "outputs": [],
   "source": []
  }
 ],
 "metadata": {
  "kernelspec": {
   "display_name": "base",
   "language": "python",
   "name": "python3"
  },
  "language_info": {
   "codemirror_mode": {
    "name": "ipython",
    "version": 3
   },
   "file_extension": ".py",
   "mimetype": "text/x-python",
   "name": "python",
   "nbconvert_exporter": "python",
   "pygments_lexer": "ipython3",
   "version": "3.12.4"
  }
 },
 "nbformat": 4,
 "nbformat_minor": 2
}
